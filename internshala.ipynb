{
 "cells": [
  {
   "cell_type": "markdown",
   "id": "de8963de-e34c-4c34-a32d-e3b4d65591d0",
   "metadata": {},
   "source": [
    "#  Import Libraries"
   ]
  },
  {
   "cell_type": "code",
   "execution_count": 1,
   "id": "c0391712-4ba6-4967-8101-b38c5100320b",
   "metadata": {},
   "outputs": [],
   "source": [
    "import requests\n",
    "from bs4 import BeautifulSoup\n",
    "import pandas as pd\n",
    "import matplotlib.pyplot as plt\n",
    "import time\n",
    "import re\n",
    "from collections import Counter\n"
   ]
  },
  {
   "cell_type": "markdown",
   "id": "f8be6473-9deb-4ae8-8ff1-8fa9b47141d0",
   "metadata": {},
   "source": [
    "# Send Request to  the Website"
   ]
  },
  {
   "cell_type": "code",
   "execution_count": 2,
   "id": "e6ecef73-c4c0-4f14-b062-1f20630f8d05",
   "metadata": {},
   "outputs": [],
   "source": [
    "url = \"https://internshala.com/internships/data-analytics-internship\"\n",
    "headers = {'User-Agent': 'Mozilla/5.0'}\n",
    "response = requests.get(url, headers=headers)\n",
    "soup = BeautifulSoup(response.content, 'html.parser')\n"
   ]
  },
  {
   "cell_type": "markdown",
   "id": "9871718e-c4ed-420c-88c4-c189a2db3890",
   "metadata": {},
   "source": [
    "# Extract Job Listings"
   ]
  },
  {
   "cell_type": "code",
   "execution_count": 3,
   "id": "5bbed53b-089f-4bb1-833f-775bc947494a",
   "metadata": {},
   "outputs": [],
   "source": [
    "jobs = soup.find_all('div', class_='individual_internship')\n"
   ]
  },
  {
   "cell_type": "markdown",
   "id": "40c919e5-4218-491e-9c80-e48bcdafa800",
   "metadata": {},
   "source": [
    "# Extract Data for Each Job"
   ]
  },
  {
   "cell_type": "code",
   "execution_count": 5,
   "id": "6925c022-9c3a-4a86-a4aa-ffa8974f00ba",
   "metadata": {},
   "outputs": [],
   "source": [
    "job_data = []\n",
    "\n",
    "for job in jobs:\n",
    "    # Job Title\n",
    "    title_tag = job.find('div', class_='heading_4_5 profile')\n",
    "    title = title_tag.text.strip() if title_tag else 'Not Available'\n",
    "    \n",
    "    # Company Name\n",
    "    company_tag = job.find('div', class_='heading_6 company_name')\n",
    "    company = company_tag.text.strip() if company_tag else 'Not Available'\n",
    "    \n",
    "    # Location\n",
    "    location_tag = job.find('a', class_='location_link')\n",
    "    location = location_tag.text.strip() if location_tag else 'Not Available'\n",
    "    \n",
    "    # Salary / Stipend\n",
    "    salary_tag = job.find('span', class_='stipend')\n",
    "    salary = salary_tag.text.strip() if salary_tag else 'Not Mentioned'\n",
    "    \n",
    "    # Skills\n",
    "    skills_tag = job.find('div', class_='item_body')\n",
    "    skills = skills_tag.text.strip() if skills_tag else 'Not Mentioned'\n",
    "    \n",
    "    job_data.append([title, company, location, salary, skills])\n"
   ]
  },
  {
   "cell_type": "markdown",
   "id": "bd2252ee-fd65-4ba4-a15b-dc3a1b4e72d6",
   "metadata": {},
   "source": [
    "# Convert to DataFrame"
   ]
  },
  {
   "cell_type": "code",
   "execution_count": 6,
   "id": "618e8bd3-9173-467a-8a5a-edc20addbcaf",
   "metadata": {},
   "outputs": [
    {
     "name": "stdout",
     "output_type": "stream",
     "text": [
      "           Title                                            Company  \\\n",
      "0  Not Available  Web3Task                        \\nActively hiring   \n",
      "1  Not Available  Mahindra Logistics Limited                    ...   \n",
      "2  Not Available  Sportskeeda                        \\nActively ...   \n",
      "3  Not Available  Kores (India) Limited                        \\...   \n",
      "4  Not Available  Corteva Agriscience                        \\nA...   \n",
      "\n",
      "        Location                   Salary         Skills  \n",
      "0  Not Available  ₹ 8,000 - 10,000 /month  Not Mentioned  \n",
      "1  Not Available          ₹ 20,000 /month  Not Mentioned  \n",
      "2  Not Available  ₹ 8,000 - 10,000 /month  Not Mentioned  \n",
      "3  Not Available           ₹ 5,000 /month  Not Mentioned  \n",
      "4  Not Available          ₹ 35,000 /month  Not Mentioned  \n"
     ]
    }
   ],
   "source": [
    "df = pd.DataFrame(job_data, columns=['Title', 'Company', 'Location', 'Salary', 'Skills'])\n",
    "print(df.head())\n"
   ]
  },
  {
   "cell_type": "markdown",
   "id": "e0263e3a-95b3-4a0f-9111-c6f23e4b57d2",
   "metadata": {},
   "source": [
    "# Clean and Preprocess Data"
   ]
  },
  {
   "cell_type": "code",
   "execution_count": 7,
   "id": "44c267f8-88cd-407c-8401-13febc1a53d5",
   "metadata": {},
   "outputs": [],
   "source": [
    "# Normalize skills using regex\n",
    "all_skills = []\n",
    "for skill in df['Skills']:\n",
    "    skill_list = re.findall(r'\\b\\w+\\b', skill.lower())\n",
    "    all_skills.extend(skill_list)\n",
    "\n",
    "skill_counts = Counter(all_skills)\n"
   ]
  },
  {
   "cell_type": "markdown",
   "id": "132fbca4-3dbb-4745-82a7-825ac5098979",
   "metadata": {},
   "source": [
    "#  Basic Analysis"
   ]
  },
  {
   "cell_type": "markdown",
   "id": "98a7a0e7-58e3-4954-91a6-23f8655888b2",
   "metadata": {},
   "source": [
    "# Total Jobs Scraped"
   ]
  },
  {
   "cell_type": "code",
   "execution_count": 8,
   "id": "b33e307c-cb2b-4d01-b7ea-c89c6539fc22",
   "metadata": {},
   "outputs": [
    {
     "name": "stdout",
     "output_type": "stream",
     "text": [
      "Total jobs scraped: 43\n"
     ]
    }
   ],
   "source": [
    "print(f\"Total jobs scraped: {len(df)}\")\n"
   ]
  },
  {
   "cell_type": "markdown",
   "id": "1bf2f4d2-3956-4b08-ad10-6b25d431a851",
   "metadata": {},
   "source": [
    "# Top 5 Locations"
   ]
  },
  {
   "cell_type": "code",
   "execution_count": 11,
   "id": "50ea6a12-0b49-417a-ba23-e5abe96cf077",
   "metadata": {},
   "outputs": [
    {
     "name": "stdout",
     "output_type": "stream",
     "text": [
      "Location\n",
      "Not Available    43\n",
      "Name: count, dtype: int64\n"
     ]
    }
   ],
   "source": [
    "top_locations = df['Location'].value_counts().head(5)\n",
    "print(top_locations)\n"
   ]
  },
  {
   "cell_type": "markdown",
   "id": "2c879fd5-88c4-47c5-b6fc-15788376211a",
   "metadata": {},
   "source": [
    "#  Most In-Demand Skills"
   ]
  },
  {
   "cell_type": "code",
   "execution_count": 12,
   "id": "c82cac2e-7e92-4579-9e92-ecf5d7db4666",
   "metadata": {},
   "outputs": [
    {
     "name": "stdout",
     "output_type": "stream",
     "text": [
      "[('not', 43), ('mentioned', 43)]\n"
     ]
    }
   ],
   "source": [
    "print(skill_counts.most_common(10))\n"
   ]
  },
  {
   "cell_type": "markdown",
   "id": "876472b4-6c9d-4641-bd5f-95d84147c380",
   "metadata": {},
   "source": [
    "# Visualizations"
   ]
  },
  {
   "cell_type": "code",
   "execution_count": 13,
   "id": "1b7e6e04-6cf6-4c72-819d-acda789afb14",
   "metadata": {},
   "outputs": [
    {
     "data": {
      "image/png": "[encoded data removed]",
      "text/plain": [
       "<Figure size 640x480 with 1 Axes>"
      ]
     },
     "metadata": {},
     "output_type": "display_data"
    }
   ],
   "source": [
    "top_locations.plot(kind='bar', title='Top 5 Job Locations')\n",
    "plt.xlabel('Location')\n",
    "plt.ylabel('Number of Jobs')\n",
    "plt.tight_layout()\n",
    "plt.show()\n"
   ]
  },
  {
   "cell_type": "markdown",
   "id": "8e81c43f-3a5c-4bbf-86c8-b2fb77f21711",
   "metadata": {},
   "source": [
    "# Skills (Optional Pie Chart)"
   ]
  },
  {
   "cell_type": "code",
   "execution_count": 14,
   "id": "d64edddc-2fa4-4dba-8af1-e111558c9f22",
   "metadata": {},
   "outputs": [
    {
     "data": {
      "image/png": "[encoded data removed]",
      "text/plain": [
       "<Figure size 640x480 with 1 Axes>"
      ]
     },
     "metadata": {},
     "output_type": "display_data"
    }
   ],
   "source": [
    "top_skills = dict(skill_counts.most_common(5))\n",
    "plt.pie(top_skills.values(), labels=top_skills.keys(), autopct='%1.1f%%')\n",
    "plt.title('Top 5 In-Demand Skills')\n",
    "plt.show()\n"
   ]
  }
 ],
 "metadata": {
  "kernelspec": {
   "display_name": "Python 3 (ipykernel)",
   "language": "python",
   "name": "python3"
  },
  "language_info": {
   "codemirror_mode": {
    "name": "ipython",
    "version": 3
   },
   "file_extension": ".py",
   "mimetype": "text/x-python",
   "name": "python",
   "nbconvert_exporter": "python",
   "pygments_lexer": "ipython3",
   "version": "3.12.7"
  }
 },
 "nbformat": 4,
 "nbformat_minor": 5
}
